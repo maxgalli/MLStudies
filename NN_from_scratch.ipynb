{
 "cells": [
  {
   "cell_type": "markdown",
   "metadata": {},
   "source": [
    "# Simple Neural Network from Scratch\n",
    "\n",
    "Simple program wich implements a Neural Network with customizable number of input features and output classes.\n",
    "\n",
    "Example:\n",
    "\n",
    "```python\n",
    "nn = NeuralNetwork(n_input_features = 3, output_tpl = (1, sigmoid), hidden_layers = [(2, sigmoid)])\n",
    "\n",
    "training_inputs = np.array([[0, 0, 1], [1, 1, 1], [1, 0, 1], [0, 1, 1]])\n",
    "training_outputs = np.array([[0, 1, 1, 0]]).T\n",
    "\n",
    "nn.train(training_inputs, training_outputs, epochs = 20000, learning_rate = 0.1)\n",
    "```\n",
    "\n",
    "Main variables involved:\n",
    "\n",
    "* $m$ number of samples used for the training process\n",
    "* $L$ total number of layers (hidden + input values + output layer)\n",
    "\n",
    "In every layer we then have the following variables:\n",
    "\n",
    "* $n$ input features (i.e. number of neurons in layer 0)\n",
    "* $N$ number of neurons\n",
    "\n",
    "\n",
    "## Training \n",
    "\n",
    "The training is made of two main processes, which are repeated a number of times equal to `epochs` in the example before.\n",
    "\n",
    "### Forward Propagation\n",
    "\n",
    "\n",
    "### Backward Propagation\n",
    "\n"
   ]
  },
  {
   "cell_type": "code",
   "execution_count": null,
   "metadata": {},
   "outputs": [],
   "source": [
    "import numpy as np\n",
    "from nn_from_scratch import NeuralNetwork, sigmoid"
   ]
  },
  {
   "cell_type": "code",
   "execution_count": null,
   "metadata": {},
   "outputs": [],
   "source": [
    "# API\n",
    "#nn = NeuralNetwork(n_input_features = 3, output_tpl = (1, sigmoid), hidden_layers = [(2, sigmoid), (2, sigmoid)])\n",
    "nn = NeuralNetwork(n_input_features = 3, output_tpl = (1, sigmoid), hidden_layers = [(2, sigmoid)])\n",
    "#nn = NeuralNetwork(n_input_features = 3, output_tpl = (1, sigmoid))"
   ]
  },
  {
   "cell_type": "code",
   "execution_count": null,
   "metadata": {},
   "outputs": [],
   "source": [
    "training_inputs = np.array([[0, 0, 1], [1, 1, 1], [1, 0, 1], [0, 1, 1]])\n",
    "training_outputs = np.array([[0, 1, 1, 0]]).T"
   ]
  },
  {
   "cell_type": "code",
   "execution_count": null,
   "metadata": {},
   "outputs": [],
   "source": [
    "nn.train(training_inputs, training_outputs, 20000, 0.1)"
   ]
  },
  {
   "cell_type": "code",
   "execution_count": null,
   "metadata": {},
   "outputs": [],
   "source": [
    "print(nn.y_best)"
   ]
  }
 ],
 "metadata": {
  "kernelspec": {
   "display_name": "Python 3",
   "language": "python",
   "name": "python3"
  },
  "language_info": {
   "codemirror_mode": {
    "name": "ipython",
    "version": 3
   },
   "file_extension": ".py",
   "mimetype": "text/x-python",
   "name": "python",
   "nbconvert_exporter": "python",
   "pygments_lexer": "ipython3",
   "version": "3.7.8"
  }
 },
 "nbformat": 4,
 "nbformat_minor": 4
}
